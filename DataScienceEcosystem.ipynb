{
 "cells": [
  {
   "cell_type": "markdown",
   "id": "1219f6ac",
   "metadata": {},
   "source": [
    "# Data science Tools and Ecosystem"
   ]
  },
  {
   "cell_type": "markdown",
   "id": "b3034038",
   "metadata": {},
   "source": [
    "In this notebook, Data Tools and Ecosystem are sumarized."
   ]
  },
  {
   "cell_type": "markdown",
   "id": "ffa768b9",
   "metadata": {},
   "source": [
    "some of the popular languages that Data scientists use are:"
   ]
  },
  {
   "cell_type": "markdown",
   "id": "24e81cf0",
   "metadata": {},
   "source": [
    "*1. python*\n",
    "\n",
    "*2. R*\n",
    "\n",
    "*3. SQL*\n",
    "\n",
    "*4. Julia*\n",
    "\n",
    "*5. Scala*\n"
   ]
  },
  {
   "cell_type": "markdown",
   "id": "ad2bd790",
   "metadata": {},
   "source": [
    "Some of the commonly used libraries used by Data scientists include:"
   ]
  },
  {
   "cell_type": "markdown",
   "id": "2036cc07",
   "metadata": {},
   "source": [
    "*1. Numpy*\n",
    "\n",
    "*2. pandas*\n",
    "\n",
    "*3. Matplotlib*\n",
    "\n",
    "*4. scikit-learn*\n",
    "\n",
    "*5. tensorFlow and keras*"
   ]
  },
  {
   "cell_type": "markdown",
   "id": "314372d9",
   "metadata": {},
   "source": [
    "|Data science Tools|\n",
    "-------------------\n",
    "|Jupyter Notebooks |\n",
    "| RStudio|\n",
    "| Anaconda|\n",
    "|Apache Spark|"
   ]
  },
  {
   "cell_type": "markdown",
   "id": "30d3312e",
   "metadata": {},
   "source": [
    "### Below are a few example of evaluating arthimetic expression in python"
   ]
  },
  {
   "cell_type": "code",
   "execution_count": 1,
   "id": "b62bada5",
   "metadata": {},
   "outputs": [
    {
     "data": {
      "text/plain": [
       "17"
      ]
     },
     "execution_count": 1,
     "metadata": {},
     "output_type": "execute_result"
    }
   ],
   "source": [
    "(3*4)+5"
   ]
  },
  {
   "cell_type": "markdown",
   "id": "d3d80a32",
   "metadata": {},
   "source": [
    "This a simple arithemetic expression to multiply then add integers"
   ]
  },
  {
   "cell_type": "code",
   "execution_count": 6,
   "id": "96d89b26",
   "metadata": {},
   "outputs": [
    {
     "name": "stdout",
     "output_type": "stream",
     "text": [
      "2OO minutes in hour= 3.3333333333333335 hour\n"
     ]
    }
   ],
   "source": [
    "minutes = 200 \n",
    "hours = minutes/60\n",
    "print(\"2OO minutes in hour=\",hours, \"hour\")"
   ]
  },
  {
   "cell_type": "markdown",
   "id": "56ae945d",
   "metadata": {},
   "source": [
    "**Objectives:**\n"
   ]
  },
  {
   "cell_type": "markdown",
   "id": "406a2c06",
   "metadata": {},
   "source": [
    "List popular languages for Data Science"
   ]
  },
  {
   "cell_type": "markdown",
   "id": "27519681",
   "metadata": {},
   "source": [
    "- python\n",
    "\n",
    "- R\n",
    "\n",
    "- SQL\n",
    "\n",
    "- Julia\n",
    "\n",
    "- Scala"
   ]
  },
  {
   "cell_type": "markdown",
   "id": "ead2c97d",
   "metadata": {},
   "source": [
    "## Author\n",
    "\n",
    "MAHENDAR BS"
   ]
  },
  {
   "cell_type": "code",
   "execution_count": null,
   "id": "203a0104",
   "metadata": {},
   "outputs": [],
   "source": []
  }
 ],
 "metadata": {
  "kernelspec": {
   "display_name": "Python 3 (ipykernel)",
   "language": "python",
   "name": "python3"
  },
  "language_info": {
   "codemirror_mode": {
    "name": "ipython",
    "version": 3
   },
   "file_extension": ".py",
   "mimetype": "text/x-python",
   "name": "python",
   "nbconvert_exporter": "python",
   "pygments_lexer": "ipython3",
   "version": "3.9.13"
  }
 },
 "nbformat": 4,
 "nbformat_minor": 5
}
