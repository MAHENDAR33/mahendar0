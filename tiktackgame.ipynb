{
 "cells": [
  {
   "cell_type": "code",
   "execution_count": 1,
   "id": "30a3442d",
   "metadata": {},
   "outputs": [],
   "source": [
    " from IPython.display import clear_output\n",
    "\n",
    "def display_board(board):\n",
    "    clear_output()\n",
    "    print('   |   |')\n",
    "    print(' '+board[7]+' | '+board[8]+' | '+board[9])\n",
    "    print('   |   |')\n",
    "    print(' '+board[4]+' | '+board[5]+' | '+board[6])\n",
    "    print('   |   |')\n",
    "    print(' '+board[1]+' | '+board[2]+' | '+board[3])\n",
    "    print('   |   |')"
   ]
  },
  {
   "cell_type": "code",
   "execution_count": 2,
   "id": "d649ee26",
   "metadata": {},
   "outputs": [
    {
     "name": "stdout",
     "output_type": "stream",
     "text": [
      "   |   |\n",
      " x | o | x\n",
      "   |   |\n",
      " 0 | x | o\n",
      "   |   |\n",
      " x | o | x\n",
      "   |   |\n"
     ]
    }
   ],
   "source": [
    "test_board=['#','x','o','x','0','x','o','x','o','x']\n",
    "display_board(test_board)\n"
   ]
  },
  {
   "cell_type": "code",
   "execution_count": 3,
   "id": "2b84d7e5",
   "metadata": {},
   "outputs": [],
   "source": [
    "def player_input():\n",
    "    \n",
    "    '''\n",
    "    output =(player1 marker,player2 marker)\n",
    "    '''\n",
    "    marker =' '\n",
    "    \n",
    "    while not(marker == 'x' or marker == 'o'):\n",
    "        marker = input('player1: choose x or o: ').upper()\n",
    "    \n",
    "        if marker == 'x':\n",
    "            return ('x', 'o') \n",
    "        # return means result of the function\n",
    "    \n",
    "        else:\n",
    "            return('o', 'x')"
   ]
  },
  {
   "cell_type": "code",
   "execution_count": 6,
   "id": "fbda78fd",
   "metadata": {},
   "outputs": [
    {
     "name": "stdin",
     "output_type": "stream",
     "text": [
      "player1: choose x or o:  o\n"
     ]
    }
   ],
   "source": [
    "player1_marker, player2_marker = player_input()"
   ]
  },
  {
   "cell_type": "code",
   "execution_count": 7,
   "id": "b3e6cdac",
   "metadata": {},
   "outputs": [
    {
     "data": {
      "text/plain": [
       "'o'"
      ]
     },
     "execution_count": 7,
     "metadata": {},
     "output_type": "execute_result"
    }
   ],
   "source": [
    "player1_marker"
   ]
  },
  {
   "cell_type": "code",
   "execution_count": 8,
   "id": "3c870450",
   "metadata": {},
   "outputs": [
    {
     "data": {
      "text/plain": [
       "'x'"
      ]
     },
     "execution_count": 8,
     "metadata": {},
     "output_type": "execute_result"
    }
   ],
   "source": [
    "player2_marker"
   ]
  },
  {
   "cell_type": "code",
   "execution_count": 9,
   "id": "dfb14473",
   "metadata": {},
   "outputs": [],
   "source": [
    "def place_marker(board,marker,position):\n",
    "    board[position]=marker"
   ]
  },
  {
   "cell_type": "code",
   "execution_count": 10,
   "id": "f748986d",
   "metadata": {},
   "outputs": [],
   "source": [
    "place_marker(test_board,'$',8)"
   ]
  },
  {
   "cell_type": "code",
   "execution_count": 11,
   "id": "716a6aaa",
   "metadata": {},
   "outputs": [
    {
     "name": "stdout",
     "output_type": "stream",
     "text": [
      "   |   |\n",
      " x | $ | x\n",
      "   |   |\n",
      " 0 | x | o\n",
      "   |   |\n",
      " x | o | x\n",
      "   |   |\n"
     ]
    }
   ],
   "source": [
    "display_board(test_board)"
   ]
  },
  {
   "cell_type": "code",
   "execution_count": 12,
   "id": "191424a6",
   "metadata": {},
   "outputs": [],
   "source": [
    "def win_check(board,mark):\n",
    "    return((board[7] == mark and board[8] == mark and board[9] == mark)or\n",
    "(board[4] == mark and board[5] == mark and board[6] == mark)or\n",
    "(board[1] == mark and board[2] == mark and board[3] == mark)or\n",
    "(board[7] == mark and board[4] == mark and board[1] == mark)or\n",
    "(board[8] == mark and board[5] == mark and board[2] == mark)or\n",
    "(board[9] == mark and board[6] == mark and board[3] == mark)or\n",
    "(board[7] == mark and board[5] == mark and board[3] == mark)or\n",
    "(board[9] == mark and board[5] == mark and board[1] == mark))"
   ]
  },
  {
   "cell_type": "code",
   "execution_count": 13,
   "id": "8a41ee53",
   "metadata": {},
   "outputs": [
    {
     "name": "stdout",
     "output_type": "stream",
     "text": [
      "   |   |\n",
      " x | $ | x\n",
      "   |   |\n",
      " 0 | x | o\n",
      "   |   |\n",
      " x | o | x\n",
      "   |   |\n"
     ]
    },
    {
     "data": {
      "text/plain": [
       "True"
      ]
     },
     "execution_count": 13,
     "metadata": {},
     "output_type": "execute_result"
    }
   ],
   "source": [
    "display_board(test_board)\n",
    "win_check(test_board,'x')"
   ]
  },
  {
   "cell_type": "code",
   "execution_count": 14,
   "id": "130b1924",
   "metadata": {},
   "outputs": [],
   "source": [
    "import random\n",
    "\n",
    "def choose_first(): \n",
    "        \n",
    "        flip = random.randint(0,1)\n",
    "        \n",
    "        if flip == 0:\n",
    "            return 'player 1'\n",
    "        else:\n",
    "            return 'player 2'\n",
    "        "
   ]
  },
  {
   "cell_type": "code",
   "execution_count": 15,
   "id": "6a241d8e",
   "metadata": {},
   "outputs": [],
   "source": [
    "def space_check(board,position):\n",
    "    return board[position] == ' '"
   ]
  },
  {
   "cell_type": "code",
   "execution_count": 16,
   "id": "27dd9d50",
   "metadata": {},
   "outputs": [],
   "source": [
    "def full_board_check(board):\n",
    "    \n",
    "    for i in range(1,10):\n",
    "        if space_check(board,i):\n",
    "            return False\n",
    "        # if position i is empty the it is false\n",
    "        #board is full is we return true\n",
    "    return True    "
   ]
  },
  {
   "cell_type": "code",
   "execution_count": 23,
   "id": "eafa71db",
   "metadata": {},
   "outputs": [],
   "source": [
    "def player_choice(board):\n",
    "    position = 0     \n",
    "    while position not in [1, 2, 3, 4, 5, 6, 7, 8, 9] or not space_check(board, position):\n",
    "        position = int(input('Choose a position: (1-9) '))\n",
    "    return position  # Corrected indentation\n",
    "# position is the result of this function   \n",
    "   "
   ]
  },
  {
   "cell_type": "code",
   "execution_count": 24,
   "id": "dc8c96d9",
   "metadata": {},
   "outputs": [],
   "source": [
    "def replay():\n",
    "    choice = input(\"play again? Enter Yes or No\")\n",
    "    return choice == 'Yes'"
   ]
  },
  {
   "cell_type": "code",
   "execution_count": 25,
   "id": "a231c287",
   "metadata": {},
   "outputs": [
    {
     "ename": "SyntaxError",
     "evalue": "invalid syntax (4190102447.py, line 19)",
     "output_type": "error",
     "traceback": [
      "\u001b[1;36m  File \u001b[1;32m\"C:\\Users\\Mahendar\\AppData\\Local\\Temp\\ipykernel_17588\\4190102447.py\"\u001b[1;36m, line \u001b[1;32m19\u001b[0m\n\u001b[1;33m    if turn = 'player1':\u001b[0m\n\u001b[1;37m            ^\u001b[0m\n\u001b[1;31mSyntaxError\u001b[0m\u001b[1;31m:\u001b[0m invalid syntax\n"
     ]
    }
   ],
   "source": [
    "#while loop to keep running the game\n",
    "print('welcome to tic tac toe')\n",
    "while True:\n",
    "    #play the game\n",
    "    #set everything up(Board whos first,choose marker x,o)\n",
    "    the_board = [' ']*10\n",
    "    player1_marker,player2_marker = player_input()\n",
    "    turn = choose_first()\n",
    "    print(turn + 'will go first')\n",
    "    play_game = input ('Ready to play? Y or N?')\n",
    "    \n",
    "    if play_game == 'Y':\n",
    "        game_on = True\n",
    "    else:\n",
    "        game_on = False\n",
    "        \n",
    "        ## game play\n",
    "        while game_on:\n",
    "            if turn = 'player1':\n",
    "                #show the board\n",
    "                display_board(the_board)\n",
    "                #choose a position\n",
    "                position = player_choice(the_board)\n",
    "                #place the marker on the position\n",
    "                place_marker(the_board,player1_marker,position)\n",
    "                # check if they won\n",
    "                if win_check(the_board,player1_marker):\n",
    "                    display_board(the_board)\n",
    "                    print('player 1 has won!!!')\n",
    "                    game_on = False\n",
    "                else:\n",
    "                    if full-board_check(the_board):\n",
    "                        display_board(the_board)\n",
    "                        print('Tie game!')\n",
    "                        game_on = False\n",
    "                    else:           \n",
    "                       turn = 'player2' \n",
    "                    \n",
    "                    \n",
    "            else:\n",
    "                #show the board\n",
    "                display_board(the_board)\n",
    "                #choose a position\n",
    "                position = player_choice(the_board)\n",
    "                #place the marker on the position\n",
    "                place_marker(the_board,player2_marker,position)\n",
    "                # check if they won\n",
    "                if win_check(the_board,player2_marker):\n",
    "                    display_board(the_board)\n",
    "                    print('player 2 has won!!!')\n",
    "                    game_on = False\n",
    "                else:\n",
    "                    if full-board_check(the_board):\n",
    "                        display_board(the_board)\n",
    "                        print('Tie game!')\n",
    "                        game_on = False\n",
    "                    else:           \n",
    "                       turn = 'player1'\n",
    "if not replay():\n",
    "    break"
   ]
  },
  {
   "cell_type": "code",
   "execution_count": null,
   "id": "ff19ac85",
   "metadata": {},
   "outputs": [],
   "source": []
  }
 ],
 "metadata": {
  "kernelspec": {
   "display_name": "Python 3 (ipykernel)",
   "language": "python",
   "name": "python3"
  },
  "language_info": {
   "codemirror_mode": {
    "name": "ipython",
    "version": 3
   },
   "file_extension": ".py",
   "mimetype": "text/x-python",
   "name": "python",
   "nbconvert_exporter": "python",
   "pygments_lexer": "ipython3",
   "version": "3.9.13"
  }
 },
 "nbformat": 4,
 "nbformat_minor": 5
}
